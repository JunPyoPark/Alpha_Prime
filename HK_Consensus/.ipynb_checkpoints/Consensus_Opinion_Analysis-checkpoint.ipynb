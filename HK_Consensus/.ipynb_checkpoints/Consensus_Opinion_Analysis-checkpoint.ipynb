{
 "cells": [
  {
   "cell_type": "markdown",
   "metadata": {},
   "source": [
    "# Consensus Opinion Analysis"
   ]
  },
  {
   "cell_type": "code",
   "execution_count": 1,
   "metadata": {},
   "outputs": [],
   "source": [
    "import pandas as pd\n",
    "import numpy as np\n",
    "import datetime\n",
    "import sqlite3\n",
    "from jupyterthemes import jtplot\n",
    "jtplot.style('grade3')"
   ]
  },
  {
   "cell_type": "code",
   "execution_count": 2,
   "metadata": {},
   "outputs": [],
   "source": [
    "con=sqlite3.connect('C:\\\\Users\\\\wnsvy\\\\PycharmProjects\\\\Crawling_Practice\\\\consensus.db')\n",
    "cursor=con.cursor()"
   ]
  },
  {
   "cell_type": "code",
   "execution_count": 3,
   "metadata": {},
   "outputs": [
    {
     "data": {
      "text/plain": [
       "datetime.datetime(2018, 10, 25, 0, 0)"
      ]
     },
     "execution_count": 3,
     "metadata": {},
     "output_type": "execute_result"
    }
   ],
   "source": [
    "# DB 데이터의 최근일 확인\n",
    "sql_state = \"SELECT * FROM \" + \"business\" +\" ORDER BY dt DESC LIMIT 1\"\n",
    "df = pd.read_sql(sql_state, con, index_col='dt')\n",
    "recent_date = df.index[0]\n",
    "recent_date = datetime.datetime.strptime(recent_date, '%Y-%m-%d')\n",
    "recent_date"
   ]
  },
  {
   "cell_type": "code",
   "execution_count": 4,
   "metadata": {},
   "outputs": [
    {
     "data": {
      "text/plain": [
       "datetime.datetime(2018, 6, 27, 0, 0)"
      ]
     },
     "execution_count": 4,
     "metadata": {},
     "output_type": "execute_result"
    }
   ],
   "source": [
    "# 테스트용\n",
    "recent_date = '2018-06-27'\n",
    "recent_date = datetime.datetime.strptime(recent_date, '%Y-%m-%d')\n",
    "recent_date"
   ]
  },
  {
   "cell_type": "code",
   "execution_count": 5,
   "metadata": {},
   "outputs": [
    {
     "data": {
      "text/plain": [
       "datetime.timedelta(1000)"
      ]
     },
     "execution_count": 5,
     "metadata": {},
     "output_type": "execute_result"
    }
   ],
   "source": [
    "# 기간 1년 default\n",
    "time_period = datetime.timedelta(days=1000)\n",
    "time_period"
   ]
  },
  {
   "cell_type": "code",
   "execution_count": 6,
   "metadata": {},
   "outputs": [
    {
     "data": {
      "text/plain": [
       "datetime.datetime(2015, 10, 1, 0, 0)"
      ]
     },
     "execution_count": 6,
     "metadata": {},
     "output_type": "execute_result"
    }
   ],
   "source": [
    "start_date = recent_date - time_period\n",
    "start_date"
   ]
  },
  {
   "cell_type": "code",
   "execution_count": 7,
   "metadata": {},
   "outputs": [
    {
     "data": {
      "text/plain": [
       "'2015-10-01'"
      ]
     },
     "execution_count": 7,
     "metadata": {},
     "output_type": "execute_result"
    }
   ],
   "source": [
    "datetime.datetime.strftime(start_date, '%Y-%m-%d')"
   ]
  },
  {
   "cell_type": "markdown",
   "metadata": {},
   "source": [
    "### 범위에 맞는 Data Slicing"
   ]
  },
  {
   "cell_type": "markdown",
   "metadata": {},
   "source": [
    "#### SQL SELECT ... WHERE Query 사용"
   ]
  },
  {
   "cell_type": "code",
   "execution_count": 8,
   "metadata": {},
   "outputs": [
    {
     "name": "stdout",
     "output_type": "stream",
     "text": [
      "SELECT * FROM stock_good_price WHERE dt > '2015-10-01'\n"
     ]
    }
   ],
   "source": [
    "sql_state = \"SELECT * FROM \" + \"stock_good_price\" +\" WHERE dt > \" + \"'\" + datetime.datetime.strftime(start_date, '%Y-%m-%d') + \"'\"\n",
    "print(sql_state)\n",
    "up_price = pd.read_sql(sql_state, con, index_col='dt')\n",
    "up_price.index = pd.Series(up_price.index).apply(lambda x : datetime.datetime.strptime(x, '%Y-%m-%d'))\n",
    "up_price = up_price[up_price.index <= recent_date]"
   ]
  },
  {
   "cell_type": "code",
   "execution_count": 10,
   "metadata": {},
   "outputs": [
    {
     "name": "stdout",
     "output_type": "stream",
     "text": [
      "SELECT * FROM stock_bad_price WHERE dt > '2015-10-01'\n"
     ]
    },
    {
     "data": {
      "text/html": [
       "<div>\n",
       "<style scoped>\n",
       "    .dataframe tbody tr th:only-of-type {\n",
       "        vertical-align: middle;\n",
       "    }\n",
       "\n",
       "    .dataframe tbody tr th {\n",
       "        vertical-align: top;\n",
       "    }\n",
       "\n",
       "    .dataframe thead th {\n",
       "        text-align: right;\n",
       "    }\n",
       "</style>\n",
       "<table border=\"1\" class=\"dataframe\">\n",
       "  <thead>\n",
       "    <tr style=\"text-align: right;\">\n",
       "      <th></th>\n",
       "      <th>title</th>\n",
       "      <th>writer</th>\n",
       "      <th>issued_by</th>\n",
       "      <th>current</th>\n",
       "      <th>prev</th>\n",
       "      <th>code</th>\n",
       "      <th>company</th>\n",
       "    </tr>\n",
       "    <tr>\n",
       "      <th>dt</th>\n",
       "      <th></th>\n",
       "      <th></th>\n",
       "      <th></th>\n",
       "      <th></th>\n",
       "      <th></th>\n",
       "      <th></th>\n",
       "      <th></th>\n",
       "    </tr>\n",
       "  </thead>\n",
       "  <tbody>\n",
       "    <tr>\n",
       "      <th>2015-10-02</th>\n",
       "      <td>대우인터내셔널(047050) 대우인터내셔널(047050) - 3분기 실적전망 하향,...</td>\n",
       "      <td>전용기,김다은</td>\n",
       "      <td>현대증권</td>\n",
       "      <td>28000</td>\n",
       "      <td>38000</td>\n",
       "      <td>A047050</td>\n",
       "      <td>대우인터내셔널</td>\n",
       "    </tr>\n",
       "    <tr>\n",
       "      <th>2015-10-02</th>\n",
       "      <td>원익IPS(030530) 원익IPS(030530) 동사 향후 실적의 개선은 당초 올...</td>\n",
       "      <td>송명섭</td>\n",
       "      <td>하이투자증권</td>\n",
       "      <td>12000</td>\n",
       "      <td>16600</td>\n",
       "      <td>A030530</td>\n",
       "      <td>원익IPS</td>\n",
       "    </tr>\n",
       "    <tr>\n",
       "      <th>2015-10-02</th>\n",
       "      <td>대우인터내셔널(047050) 대우인터내셔널(047050) - 3분기 영업이익은 1,...</td>\n",
       "      <td>허민호</td>\n",
       "      <td>신한금융투자</td>\n",
       "      <td>26000</td>\n",
       "      <td>32000</td>\n",
       "      <td>A047050</td>\n",
       "      <td>대우인터내셔널</td>\n",
       "    </tr>\n",
       "    <tr>\n",
       "      <th>2015-10-02</th>\n",
       "      <td>한국항공우주(047810) 한국항공우주(047810) 단기로는 KFX 본계약 체결 ...</td>\n",
       "      <td>한영수</td>\n",
       "      <td>삼성증권</td>\n",
       "      <td>90000</td>\n",
       "      <td>105000</td>\n",
       "      <td>A047810</td>\n",
       "      <td>한국항공우주</td>\n",
       "    </tr>\n",
       "    <tr>\n",
       "      <th>2015-10-02</th>\n",
       "      <td>OCI머티리얼즈(036490) OCI머티리얼즈(036490) 투자의견 BUY 유지,...</td>\n",
       "      <td>도현우</td>\n",
       "      <td>미래에셋증권</td>\n",
       "      <td>130000</td>\n",
       "      <td>150000</td>\n",
       "      <td>A036490</td>\n",
       "      <td>OCI머티리얼즈</td>\n",
       "    </tr>\n",
       "  </tbody>\n",
       "</table>\n",
       "</div>"
      ],
      "text/plain": [
       "                                                        title   writer  \\\n",
       "dt                                                                       \n",
       "2015-10-02  대우인터내셔널(047050) 대우인터내셔널(047050) - 3분기 실적전망 하향,...  전용기,김다은   \n",
       "2015-10-02  원익IPS(030530) 원익IPS(030530) 동사 향후 실적의 개선은 당초 올...      송명섭   \n",
       "2015-10-02  대우인터내셔널(047050) 대우인터내셔널(047050) - 3분기 영업이익은 1,...      허민호   \n",
       "2015-10-02  한국항공우주(047810) 한국항공우주(047810) 단기로는 KFX 본계약 체결 ...      한영수   \n",
       "2015-10-02  OCI머티리얼즈(036490) OCI머티리얼즈(036490) 투자의견 BUY 유지,...      도현우   \n",
       "\n",
       "           issued_by  current    prev     code   company  \n",
       "dt                                                        \n",
       "2015-10-02      현대증권    28000   38000  A047050   대우인터내셔널  \n",
       "2015-10-02    하이투자증권    12000   16600  A030530     원익IPS  \n",
       "2015-10-02    신한금융투자    26000   32000  A047050   대우인터내셔널  \n",
       "2015-10-02      삼성증권    90000  105000  A047810    한국항공우주  \n",
       "2015-10-02    미래에셋증권   130000  150000  A036490  OCI머티리얼즈  "
      ]
     },
     "execution_count": 10,
     "metadata": {},
     "output_type": "execute_result"
    }
   ],
   "source": [
    "sql_state = \"SELECT * FROM \" + \"stock_bad_price\" +\" WHERE dt > \" + \"'\" + datetime.datetime.strftime(start_date, '%Y-%m-%d') + \"'\"\n",
    "print(sql_state)\n",
    "down_price = pd.read_sql(sql_state, con, index_col='dt')\n",
    "down_price.index = pd.Series(down_price.index).apply(lambda x : datetime.datetime.strptime(x, '%Y-%m-%d'))\n",
    "down_price = down_price[down_price.index <= recent_date]\n",
    "down_price.head()"
   ]
  },
  {
   "cell_type": "markdown",
   "metadata": {},
   "source": [
    "### 해당 종목 코드에 해당하는 data slicing"
   ]
  },
  {
   "cell_type": "code",
   "execution_count": 11,
   "metadata": {},
   "outputs": [],
   "source": [
    "# code = '067160' # 아프리카TV\n",
    "# code = '000660' # SK Hynix\n",
    "# code = '051910' # LG Chem\n",
    "code = '035900' # JYP\n",
    "# code= '207940' # 삼성바이오로직스\n",
    "# code = '011170' # 롯데 케미칼"
   ]
  },
  {
   "cell_type": "code",
   "execution_count": 12,
   "metadata": {},
   "outputs": [],
   "source": [
    "selected_down_data = down_price[down_price['code']=='A' + code]"
   ]
  },
  {
   "cell_type": "code",
   "execution_count": 13,
   "metadata": {},
   "outputs": [
    {
     "data": {
      "text/html": [
       "<div>\n",
       "<style scoped>\n",
       "    .dataframe tbody tr th:only-of-type {\n",
       "        vertical-align: middle;\n",
       "    }\n",
       "\n",
       "    .dataframe tbody tr th {\n",
       "        vertical-align: top;\n",
       "    }\n",
       "\n",
       "    .dataframe thead th {\n",
       "        text-align: right;\n",
       "    }\n",
       "</style>\n",
       "<table border=\"1\" class=\"dataframe\">\n",
       "  <thead>\n",
       "    <tr style=\"text-align: right;\">\n",
       "      <th></th>\n",
       "      <th>title</th>\n",
       "      <th>writer</th>\n",
       "      <th>issued_by</th>\n",
       "      <th>current</th>\n",
       "      <th>prev</th>\n",
       "      <th>code</th>\n",
       "      <th>company</th>\n",
       "    </tr>\n",
       "    <tr>\n",
       "      <th>dt</th>\n",
       "      <th></th>\n",
       "      <th></th>\n",
       "      <th></th>\n",
       "      <th></th>\n",
       "      <th></th>\n",
       "      <th></th>\n",
       "      <th></th>\n",
       "    </tr>\n",
       "  </thead>\n",
       "  <tbody>\n",
       "    <tr>\n",
       "      <th>2017-05-16</th>\n",
       "      <td>JYP Ent.(035900)여전히 가장 저평가된 기획사 JYP Ent.(03590...</td>\n",
       "      <td>이기훈</td>\n",
       "      <td>하나대투증권</td>\n",
       "      <td>12000</td>\n",
       "      <td>10000</td>\n",
       "      <td>A035900</td>\n",
       "      <td>JYP Ent.</td>\n",
       "    </tr>\n",
       "    <tr>\n",
       "      <th>2017-07-03</th>\n",
       "      <td>JYP Ent.(035900)트와이스는 빠르면 2년 내 일본 돔 투어가 가능 JYP...</td>\n",
       "      <td>이기훈</td>\n",
       "      <td>하나대투증권</td>\n",
       "      <td>13000</td>\n",
       "      <td>12000</td>\n",
       "      <td>A035900</td>\n",
       "      <td>JYP Ent.</td>\n",
       "    </tr>\n",
       "    <tr>\n",
       "      <th>2017-09-12</th>\n",
       "      <td>JYP Ent.(035900)10월 신고가를 기대하는 3가지 모멘텀 JYP Ent....</td>\n",
       "      <td>이기훈</td>\n",
       "      <td>하나대투증권</td>\n",
       "      <td>14000</td>\n",
       "      <td>13000</td>\n",
       "      <td>A035900</td>\n",
       "      <td>JYP Ent.</td>\n",
       "    </tr>\n",
       "    <tr>\n",
       "      <th>2017-10-23</th>\n",
       "      <td>JYP Ent.(035900)아직도 가장 저평가된 기획사 JYP Ent.(03590...</td>\n",
       "      <td>이기훈</td>\n",
       "      <td>하나금융투자</td>\n",
       "      <td>15500</td>\n",
       "      <td>14000</td>\n",
       "      <td>A035900</td>\n",
       "      <td>JYP Ent.</td>\n",
       "    </tr>\n",
       "    <tr>\n",
       "      <th>2017-11-23</th>\n",
       "      <td>JYP Ent.(035900)2018년 남자 아이돌 3팀 데뷔 JYP Ent.(03...</td>\n",
       "      <td>이기훈</td>\n",
       "      <td>하나금융투자</td>\n",
       "      <td>17000</td>\n",
       "      <td>15500</td>\n",
       "      <td>A035900</td>\n",
       "      <td>JYP Ent.</td>\n",
       "    </tr>\n",
       "    <tr>\n",
       "      <th>2018-01-17</th>\n",
       "      <td>JYP Ent.(035900)스트레이 키즈는 제2의 BTS가 될 수 있다 JYP E...</td>\n",
       "      <td>이기훈</td>\n",
       "      <td>하나금융투자</td>\n",
       "      <td>25000</td>\n",
       "      <td>17000</td>\n",
       "      <td>A035900</td>\n",
       "      <td>JYP Ent.</td>\n",
       "    </tr>\n",
       "    <tr>\n",
       "      <th>2018-04-13</th>\n",
       "      <td>JYP Ent.(035900)2020년 목표 시가총액 1.6조원 이상 JYP Ent...</td>\n",
       "      <td>이기훈</td>\n",
       "      <td>하나금융투자</td>\n",
       "      <td>30000</td>\n",
       "      <td>25000</td>\n",
       "      <td>A035900</td>\n",
       "      <td>JYP Ent.</td>\n",
       "    </tr>\n",
       "    <tr>\n",
       "      <th>2018-05-16</th>\n",
       "      <td>JYP Ent.(035900)비수기부터 믿기 힘든 실적 서프라이즈 JYP Ent.(...</td>\n",
       "      <td>이기훈</td>\n",
       "      <td>하나금융투자</td>\n",
       "      <td>34000</td>\n",
       "      <td>30000</td>\n",
       "      <td>A035900</td>\n",
       "      <td>JYP Ent.</td>\n",
       "    </tr>\n",
       "  </tbody>\n",
       "</table>\n",
       "</div>"
      ],
      "text/plain": [
       "                                                        title writer  \\\n",
       "dt                                                                     \n",
       "2017-05-16  JYP Ent.(035900)여전히 가장 저평가된 기획사 JYP Ent.(03590...    이기훈   \n",
       "2017-07-03  JYP Ent.(035900)트와이스는 빠르면 2년 내 일본 돔 투어가 가능 JYP...    이기훈   \n",
       "2017-09-12  JYP Ent.(035900)10월 신고가를 기대하는 3가지 모멘텀 JYP Ent....    이기훈   \n",
       "2017-10-23  JYP Ent.(035900)아직도 가장 저평가된 기획사 JYP Ent.(03590...    이기훈   \n",
       "2017-11-23  JYP Ent.(035900)2018년 남자 아이돌 3팀 데뷔 JYP Ent.(03...    이기훈   \n",
       "2018-01-17  JYP Ent.(035900)스트레이 키즈는 제2의 BTS가 될 수 있다 JYP E...    이기훈   \n",
       "2018-04-13  JYP Ent.(035900)2020년 목표 시가총액 1.6조원 이상 JYP Ent...    이기훈   \n",
       "2018-05-16  JYP Ent.(035900)비수기부터 믿기 힘든 실적 서프라이즈 JYP Ent.(...    이기훈   \n",
       "\n",
       "           issued_by  current   prev     code   company  \n",
       "dt                                                       \n",
       "2017-05-16    하나대투증권    12000  10000  A035900  JYP Ent.  \n",
       "2017-07-03    하나대투증권    13000  12000  A035900  JYP Ent.  \n",
       "2017-09-12    하나대투증권    14000  13000  A035900  JYP Ent.  \n",
       "2017-10-23    하나금융투자    15500  14000  A035900  JYP Ent.  \n",
       "2017-11-23    하나금융투자    17000  15500  A035900  JYP Ent.  \n",
       "2018-01-17    하나금융투자    25000  17000  A035900  JYP Ent.  \n",
       "2018-04-13    하나금융투자    30000  25000  A035900  JYP Ent.  \n",
       "2018-05-16    하나금융투자    34000  30000  A035900  JYP Ent.  "
      ]
     },
     "execution_count": 13,
     "metadata": {},
     "output_type": "execute_result"
    }
   ],
   "source": [
    "selected_up_data = up_price[up_price['code']=='A' + code]\n",
    "selected_up_data"
   ]
  },
  {
   "cell_type": "code",
   "execution_count": 334,
   "metadata": {},
   "outputs": [
    {
     "data": {
      "text/plain": [
       "['하나대투증권', '하나금융투자']"
      ]
     },
     "execution_count": 334,
     "metadata": {},
     "output_type": "execute_result"
    }
   ],
   "source": [
    "security_comp = list(set(selected_up_data['issued_by']))\n",
    "security_comp"
   ]
  },
  {
   "cell_type": "code",
   "execution_count": 335,
   "metadata": {},
   "outputs": [
    {
     "data": {
      "text/html": [
       "<div>\n",
       "<style scoped>\n",
       "    .dataframe tbody tr th:only-of-type {\n",
       "        vertical-align: middle;\n",
       "    }\n",
       "\n",
       "    .dataframe tbody tr th {\n",
       "        vertical-align: top;\n",
       "    }\n",
       "\n",
       "    .dataframe thead th {\n",
       "        text-align: right;\n",
       "    }\n",
       "</style>\n",
       "<table border=\"1\" class=\"dataframe\">\n",
       "  <thead>\n",
       "    <tr style=\"text-align: right;\">\n",
       "      <th></th>\n",
       "      <th>title</th>\n",
       "      <th>writer</th>\n",
       "      <th>issued_by</th>\n",
       "      <th>current</th>\n",
       "      <th>prev</th>\n",
       "      <th>code</th>\n",
       "      <th>company</th>\n",
       "    </tr>\n",
       "    <tr>\n",
       "      <th>dt</th>\n",
       "      <th></th>\n",
       "      <th></th>\n",
       "      <th></th>\n",
       "      <th></th>\n",
       "      <th></th>\n",
       "      <th></th>\n",
       "      <th></th>\n",
       "    </tr>\n",
       "  </thead>\n",
       "  <tbody>\n",
       "    <tr>\n",
       "      <th>2017-05-16</th>\n",
       "      <td>JYP Ent.(035900)여전히 가장 저평가된 기획사 JYP Ent.(03590...</td>\n",
       "      <td>이기훈</td>\n",
       "      <td>하나대투증권</td>\n",
       "      <td>12000</td>\n",
       "      <td>10000</td>\n",
       "      <td>A035900</td>\n",
       "      <td>JYP Ent.</td>\n",
       "    </tr>\n",
       "    <tr>\n",
       "      <th>2017-07-03</th>\n",
       "      <td>JYP Ent.(035900)트와이스는 빠르면 2년 내 일본 돔 투어가 가능 JYP...</td>\n",
       "      <td>이기훈</td>\n",
       "      <td>하나대투증권</td>\n",
       "      <td>13000</td>\n",
       "      <td>12000</td>\n",
       "      <td>A035900</td>\n",
       "      <td>JYP Ent.</td>\n",
       "    </tr>\n",
       "    <tr>\n",
       "      <th>2017-09-12</th>\n",
       "      <td>JYP Ent.(035900)10월 신고가를 기대하는 3가지 모멘텀 JYP Ent....</td>\n",
       "      <td>이기훈</td>\n",
       "      <td>하나대투증권</td>\n",
       "      <td>14000</td>\n",
       "      <td>13000</td>\n",
       "      <td>A035900</td>\n",
       "      <td>JYP Ent.</td>\n",
       "    </tr>\n",
       "  </tbody>\n",
       "</table>\n",
       "</div>"
      ],
      "text/plain": [
       "                                                        title writer  \\\n",
       "dt                                                                     \n",
       "2017-05-16  JYP Ent.(035900)여전히 가장 저평가된 기획사 JYP Ent.(03590...    이기훈   \n",
       "2017-07-03  JYP Ent.(035900)트와이스는 빠르면 2년 내 일본 돔 투어가 가능 JYP...    이기훈   \n",
       "2017-09-12  JYP Ent.(035900)10월 신고가를 기대하는 3가지 모멘텀 JYP Ent....    이기훈   \n",
       "\n",
       "           issued_by  current   prev     code   company  \n",
       "dt                                                       \n",
       "2017-05-16    하나대투증권    12000  10000  A035900  JYP Ent.  \n",
       "2017-07-03    하나대투증권    13000  12000  A035900  JYP Ent.  \n",
       "2017-09-12    하나대투증권    14000  13000  A035900  JYP Ent.  "
      ]
     },
     "execution_count": 335,
     "metadata": {},
     "output_type": "execute_result"
    }
   ],
   "source": [
    "st_data = selected_up_data[selected_up_data['issued_by']==security_comp[0]]\n",
    "st_data"
   ]
  },
  {
   "cell_type": "markdown",
   "metadata": {},
   "source": [
    "#### 증권사(애널리스트)별 목표가 도달 여부 확인 해서 정확도, 평균 기간 Plot 하기"
   ]
  },
  {
   "cell_type": "markdown",
   "metadata": {},
   "source": [
    "#### Bar Chart 사용"
   ]
  },
  {
   "cell_type": "markdown",
   "metadata": {},
   "source": [
    "### 주가 Data 받아오기"
   ]
  },
  {
   "cell_type": "code",
   "execution_count": 15,
   "metadata": {},
   "outputs": [],
   "source": [
    "from antQuant.utils import DataManager"
   ]
  },
  {
   "cell_type": "code",
   "execution_count": 16,
   "metadata": {},
   "outputs": [],
   "source": [
    "dm = DataManager()\n",
    "df = dm.get_adj_daily_ohlcv(code)"
   ]
  },
  {
   "cell_type": "code",
   "execution_count": 17,
   "metadata": {},
   "outputs": [],
   "source": [
    "price = df[df.index > start_date]"
   ]
  },
  {
   "cell_type": "code",
   "execution_count": 18,
   "metadata": {},
   "outputs": [],
   "source": [
    "price = price['close']\n",
    "idx = price.index"
   ]
  },
  {
   "cell_type": "code",
   "execution_count": 19,
   "metadata": {},
   "outputs": [
    {
     "data": {
      "text/plain": [
       "date\n",
       "2018-06-21    26200.0\n",
       "2018-06-22    25850.0\n",
       "2018-06-25    25300.0\n",
       "2018-06-26    25500.0\n",
       "2018-06-27    25250.0\n",
       "Name: close, dtype: float64"
      ]
     },
     "execution_count": 19,
     "metadata": {},
     "output_type": "execute_result"
    }
   ],
   "source": [
    "price.tail()"
   ]
  },
  {
   "cell_type": "markdown",
   "metadata": {},
   "source": [
    "### 상향에 대한 정확도 측정"
   ]
  },
  {
   "cell_type": "markdown",
   "metadata": {},
   "source": [
    "도달 비교 대상을 high 로 잡을까 close 로 잡을까"
   ]
  },
  {
   "cell_type": "markdown",
   "metadata": {},
   "source": [
    "### 1. Opinion 간격만 고려한 도달률 계산"
   ]
  },
  {
   "cell_type": "code",
   "execution_count": 347,
   "metadata": {},
   "outputs": [
    {
     "name": "stdout",
     "output_type": "stream",
     "text": [
      "하나대투증권\n",
      "예측성공 / 예측실패 :  1 / 2\n",
      "도달 성공률 :  33.33333333333333 %\n",
      "평균 도달 기간 :  98.0 일\n",
      "하나금융투자\n",
      "예측성공 / 예측실패 :  0 / 5\n",
      "도달 성공률 :  0.0 %\n"
     ]
    }
   ],
   "source": [
    "for i in security_comp:\n",
    "    st_data = selected_up_data[selected_up_data['issued_by']==i]\n",
    "    print(i)\n",
    "    false_count = 0\n",
    "    true_count = 0\n",
    "    avg_period = 0\n",
    "    if len(st_data) == 1 :\n",
    "        j = 0\n",
    "    for j in range(len(st_data)-1):\n",
    "        # print(st_data.index[j], st_data.index[j+1], st_data.iloc[j]['current'])\n",
    "        approach_true = price[st_data.index[j]:st_data.index[j+1]].where(price>st_data.iloc[j]['current']).dropna()\n",
    "        \n",
    "        if len(approach_true) == 0: # 도달 실패\n",
    "            false_count += 1\n",
    "        elif len(approach_true) > 0: # 도달 성공\n",
    "            true_count += 1\n",
    "            dt = approach_true.index[0] - st_data.index[j]\n",
    "            avg_period += dt.days\n",
    "        # print(approach_true)\n",
    "        # 기간 st_data.index[j] ~ st_data.index[j+1]\n",
    "    # j 마지막 줄 코드 작성 -> iloc[len(st_data)-1]\n",
    "    if len(st_data) != 1 :\n",
    "        j += 1\n",
    "    approach_true = price[st_data.index[j]:recent_date].where(price>st_data.iloc[j]['current']).dropna()\n",
    "    #print(st_data.index[j], recent_date, st_data.iloc[j]['current'])\n",
    "    if len(approach_true) == 0: # 도달 실패\n",
    "            false_count += 1\n",
    "    elif len(approach_true) > 0: # 도달 성공\n",
    "        true_count += 1\n",
    "        dt = approach_true.index[0] - st_data.index[j]\n",
    "        avg_period += dt.days\n",
    "    print('예측성공 / 예측실패 : ',true_count,'/',false_count)\n",
    "    print('도달 성공률 : ', true_count/(true_count + false_count) * 100 , '%')\n",
    "    if true_count != 0:\n",
    "        avg_period = avg_period / true_count\n",
    "        print('평균 도달 기간 : ', avg_period,'일')"
   ]
  },
  {
   "cell_type": "markdown",
   "metadata": {},
   "source": [
    "### 2. 전체기간동안을 고려한 도달률 계산"
   ]
  },
  {
   "cell_type": "code",
   "execution_count": 348,
   "metadata": {
    "scrolled": true
   },
   "outputs": [
    {
     "name": "stdout",
     "output_type": "stream",
     "text": [
      "하나대투증권\n",
      "예측성공 | 예측실패 :  3 | 0\n",
      "도달 성공률 :  100.0 %\n",
      "평균 도달 기간 :  141.66666666666666 일\n",
      "하나금융투자\n",
      "예측성공 | 예측실패 :  3 | 2\n",
      "도달 성공률 :  60.0 %\n",
      "평균 도달 기간 :  104.0 일\n"
     ]
    }
   ],
   "source": [
    "for i in security_comp:\n",
    "    st_data = selected_up_data[selected_up_data['issued_by']==i]\n",
    "    print(i)\n",
    "    false_count = 0\n",
    "    true_count = 0\n",
    "    avg_period = 0\n",
    "    for j in range(len(st_data)):\n",
    "        approach_true = price[st_data.index[j]:recent_date].where(price>st_data.iloc[j]['current']).dropna()\n",
    "        \n",
    "        if len(approach_true) == 0: # 도달 실패\n",
    "            false_count += 1\n",
    "        elif len(approach_true) > 0: # 도달 성공\n",
    "            true_count += 1\n",
    "            dt = approach_true.index[0] - st_data.index[j]\n",
    "            avg_period += dt.days\n",
    "    \n",
    "    print('예측성공 | 예측실패 : ',true_count,'|',false_count)\n",
    "    print('도달 성공률 : ', true_count/(true_count + false_count) * 100, '%')\n",
    "    if true_count != 0:\n",
    "        avg_period = avg_period / true_count\n",
    "        print('평균 도달 기간 : ', avg_period,'일')"
   ]
  },
  {
   "cell_type": "markdown",
   "metadata": {},
   "source": [
    "## 분석 결과"
   ]
  },
  {
   "cell_type": "markdown",
   "metadata": {},
   "source": [
    "> * 여러 종목을 통해 증권사별 목표가 도달여부와 기간을 분석한 결과 목표치에 도달했을 때 상향/하향 조정을 하기 보다는 추세가 근접 하였을 때 미리 목표가를 수정하는 빈도가 많이 발견되었다.(1과 2의 도달 성공률 비교) <br>\n",
    "> * 2의 분석에서 예측이 성공하였을 때 평균도달 기간을 구함으로써 증권사별 평균 도달 기간을 계산 할 수 있었다."
   ]
  },
  {
   "cell_type": "markdown",
   "metadata": {},
   "source": [
    "시각화 자료 업데이트 하기"
   ]
  },
  {
   "cell_type": "code",
   "execution_count": null,
   "metadata": {},
   "outputs": [],
   "source": []
  }
 ],
 "metadata": {
  "kernelspec": {
   "display_name": "Python 3",
   "language": "python",
   "name": "python3"
  },
  "language_info": {
   "codemirror_mode": {
    "name": "ipython",
    "version": 3
   },
   "file_extension": ".py",
   "mimetype": "text/x-python",
   "name": "python",
   "nbconvert_exporter": "python",
   "pygments_lexer": "ipython3",
   "version": "3.6.1"
  }
 },
 "nbformat": 4,
 "nbformat_minor": 2
}
