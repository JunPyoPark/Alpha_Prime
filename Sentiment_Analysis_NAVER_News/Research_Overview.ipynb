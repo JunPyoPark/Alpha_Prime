{
 "cells": [
  {
   "cell_type": "markdown",
   "metadata": {},
   "source": [
    "# Research Summary"
   ]
  },
  {
   "cell_type": "markdown",
   "metadata": {},
   "source": [
    "# <center> Stock Market Prediction - Network applied News Sentiment Analysis - </center>"
   ]
  },
  {
   "cell_type": "markdown",
   "metadata": {},
   "source": [
    "<img src = \"https://trello-attachments.s3.amazonaws.com/5b29ec749cfb0d90ada47d03/5bd55306d773518844d461d7/b0ed1d65d21f3be70341e78f6959555a/Final_Poster.JPG\">"
   ]
  },
  {
   "cell_type": "markdown",
   "metadata": {},
   "source": [
    "# 1. Crawling the News Data from NAVER NEWS"
   ]
  },
  {
   "cell_type": "markdown",
   "metadata": {},
   "source": [
    "<img src = \"https://trello-attachments.s3.amazonaws.com/5b29ec749cfb0d90ada47d03/5bd55306d773518844d461d7/7296095a2a8551836d2e25f44dfb1f6e/image.png\">"
   ]
  },
  {
   "cell_type": "markdown",
   "metadata": {},
   "source": [
    "```python\n",
    "def get_title_data(code): # 1년간의 기사 데이터 받아오기\n",
    "    p = 0\n",
    "    data = pd.DataFrame(columns=['title','Link','info'])\n",
    "\n",
    "    while True:\n",
    "        p = p + 1\n",
    "        time.sleep(0.3 + np.random.rand())\n",
    "        url = 'http://finance.naver.com/item/news_news.nhn?code={code}&page={page}&sm=title_entity_id.basic&clusterId='\n",
    "        soup = bs4.BeautifulSoup(requests.get(url.format(code=code, page=p), headers={'User-Agent': agent.random}).text, 'lxml')\n",
    "        alist = soup.select('tr')\n",
    "        print('Page : ',p, '    Articles : ',len(alist))\n",
    "        if len(alist) < 11 :\n",
    "            break\n",
    "        for tr in alist:\n",
    "            try:\n",
    "                href = 'http://finance.naver.com' + tr.select('a')[0]['href']\n",
    "                title = tr.select('a')[0].text.strip()\n",
    "                info = tr.select('.info')[0].text.strip()\n",
    "                date = tr.select('.date')[0].text.strip()\n",
    "                dt = datetime.datetime.strptime(date, \"%Y.%m.%d %H:%M\")\n",
    "                data.loc[dt] = [title, href, info]\n",
    "                # print(href, title, info, date)\n",
    "            except IndexError as e:\n",
    "                continue\n",
    "    data.to_csv(code + '.csv')\n",
    "    return data\n",
    "```"
   ]
  },
  {
   "cell_type": "markdown",
   "metadata": {},
   "source": [
    "<img src = \"https://trello-attachments.s3.amazonaws.com/5b29ec749cfb0d90ada47d03/5bd55306d773518844d461d7/cf6968a20511d58fade2e2551785a1a8/image.png\">"
   ]
  },
  {
   "cell_type": "markdown",
   "metadata": {},
   "source": [
    "# 2. Processing the Article Data ( Data Cleansing )"
   ]
  },
  {
   "cell_type": "markdown",
   "metadata": {},
   "source": [
    "### Clean the text using the regular expression filter process"
   ]
  },
  {
   "cell_type": "markdown",
   "metadata": {},
   "source": [
    "<img src = \"https://trello-attachments.s3.amazonaws.com/5b29ec749cfb0d90ada47d03/5bd55306d773518844d461d7/7fb78b5f4d13a1c1da188116383ce11d/image.png\">"
   ]
  },
  {
   "cell_type": "markdown",
   "metadata": {},
   "source": [
    "# 3. Translate the articles to English"
   ]
  },
  {
   "cell_type": "markdown",
   "metadata": {},
   "source": [
    "### googletrans 모듈 사용"
   ]
  },
  {
   "cell_type": "markdown",
   "metadata": {},
   "source": [
    "```python\n",
    "from googletrans import Translator\n",
    "translator = Translator()\n",
    "```"
   ]
  },
  {
   "cell_type": "markdown",
   "metadata": {},
   "source": [
    "### Translated Results"
   ]
  },
  {
   "cell_type": "markdown",
   "metadata": {},
   "source": [
    "<img src = \"https://trello-attachments.s3.amazonaws.com/5b29ec749cfb0d90ada47d03/5bd55306d773518844d461d7/37d2b4b3b23f1252b7ff266f38168f27/image.png\">"
   ]
  },
  {
   "cell_type": "markdown",
   "metadata": {},
   "source": [
    "# 4. Construct the Sentiment Network"
   ]
  },
  {
   "cell_type": "markdown",
   "metadata": {},
   "source": [
    "<img src = \"https://trello-attachments.s3.amazonaws.com/5b29ec749cfb0d90ada47d03/5bd55306d773518844d461d7/43ff9cb24ae5d077f9960b482e9dbcd4/image.png\">"
   ]
  },
  {
   "cell_type": "markdown",
   "metadata": {},
   "source": [
    "### Through the network construction, we can choose the word, which is the most influential. Measure of weight is eigenvector centrality."
   ]
  },
  {
   "cell_type": "markdown",
   "metadata": {},
   "source": [
    "## Why Eigenvector Centrality?"
   ]
  },
  {
   "cell_type": "markdown",
   "metadata": {},
   "source": [
    "### There is so many word whose sentiment is neutral. Using eigenvector centrality, we can *reflect its influence on the neighbor whose sentiment is not neutral.*"
   ]
  },
  {
   "cell_type": "markdown",
   "metadata": {},
   "source": [
    "```python\n",
    " for i in range(len(stock_data_title_trans)):\n",
    "        text = re.sub(\"[^\\w]\", \" \", stock_data_title_trans[i]).split()\n",
    "        stock_data_title_word[i] = text\n",
    "    \n",
    "    node = []\n",
    "    for i in range(len(stock_data_title_trans)):\n",
    "        node += stock_data_title_word[i]\n",
    "    \n",
    "    link = []\n",
    "    for i in range(len(stock_data_title_trans)):\n",
    "        for s in stock_data_title_word[i]:\n",
    "            for t in stock_data_title_word[i]:\n",
    "                if s != t:\n",
    "                    link += [(s,t)]\n",
    "    \n",
    "    G = nx.Graph()\n",
    "    G.add_nodes_from(node)\n",
    "    G.add_edges_from(link)\n",
    "    try:\n",
    "        stock_data_cent += [dict(nx.eigenvector_centrality(G))]\n",
    "    except:\n",
    "        return 0\n",
    "```"
   ]
  },
  {
   "cell_type": "markdown",
   "metadata": {},
   "source": [
    "# 5. Sentiment Analysis with Eigenvector Centrality as a Weigth"
   ]
  },
  {
   "cell_type": "markdown",
   "metadata": {},
   "source": [
    "```python\n",
    "for w in node:\n",
    "        ss=sid.polarity_scores(w)\n",
    "        stock_sentiment[w]=ss['compound']\n",
    "        \n",
    "    c=0\n",
    "    for i in node:\n",
    "        c+=1\n",
    "        result += stock_sentiment[i]*stock_data_cent[0][i]\n",
    "    result = result / c\n",
    "    \n",
    "    return result\n",
    "```"
   ]
  },
  {
   "cell_type": "markdown",
   "metadata": {},
   "source": [
    "## Example Result Plot"
   ]
  },
  {
   "cell_type": "markdown",
   "metadata": {},
   "source": [
    "<img src = \"https://trello-attachments.s3.amazonaws.com/5b29ec749cfb0d90ada47d03/5bd55306d773518844d461d7/d57cace4df019af93043049e6c08f775/image.png\">"
   ]
  },
  {
   "cell_type": "markdown",
   "metadata": {},
   "source": [
    "## Average Prediction Rate Comparison"
   ]
  },
  {
   "cell_type": "markdown",
   "metadata": {},
   "source": [
    "### Comparison between Simple Model and Network Applied Model"
   ]
  },
  {
   "cell_type": "markdown",
   "metadata": {},
   "source": [
    "<img src = \"https://trello-attachments.s3.amazonaws.com/5b29ec749cfb0d90ada47d03/5bd55306d773518844d461d7/fc1114252afc9091c986c96ece29a675/image.png\">"
   ]
  },
  {
   "cell_type": "markdown",
   "metadata": {},
   "source": [
    "## Weekly Prediction Rate Table"
   ]
  },
  {
   "cell_type": "markdown",
   "metadata": {},
   "source": [
    "### Weekly Results for each starting days"
   ]
  },
  {
   "cell_type": "markdown",
   "metadata": {},
   "source": [
    "<img src = \"https://trello-attachments.s3.amazonaws.com/5b29ec749cfb0d90ada47d03/5bd55306d773518844d461d7/15d90e82f6c7fdcc6fa49f662c82c629/image.png\">"
   ]
  },
  {
   "cell_type": "markdown",
   "metadata": {},
   "source": [
    "# Conclusion"
   ]
  },
  {
   "cell_type": "markdown",
   "metadata": {},
   "source": [
    "### - In daily prediction, difference between simple model and network model is ambiguous.\n",
    "\n",
    "### - But, in weekly prediction, difference between simple model and network model is clear. We observed improvement that the stock market prediction model through sentiment analysis of news using network.\n",
    "\n",
    "### - Network's advantage for stock market prediction using sentimnet analysis is more clear if data is more enough."
   ]
  }
 ],
 "metadata": {
  "kernelspec": {
   "display_name": "Python 3",
   "language": "python",
   "name": "python3"
  },
  "language_info": {
   "codemirror_mode": {
    "name": "ipython",
    "version": 3
   },
   "file_extension": ".py",
   "mimetype": "text/x-python",
   "name": "python",
   "nbconvert_exporter": "python",
   "pygments_lexer": "ipython3",
   "version": "3.6.1"
  }
 },
 "nbformat": 4,
 "nbformat_minor": 2
}
