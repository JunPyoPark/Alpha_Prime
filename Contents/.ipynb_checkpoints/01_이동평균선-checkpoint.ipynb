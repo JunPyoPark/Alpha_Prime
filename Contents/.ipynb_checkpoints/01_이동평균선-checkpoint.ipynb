{
 "cells": [
  {
   "cell_type": "markdown",
   "metadata": {},
   "source": [
    "# 이동평균선"
   ]
  },
  {
   "cell_type": "markdown",
   "metadata": {},
   "source": [
    "https://wikidocs.net/4374"
   ]
  },
  {
   "cell_type": "markdown",
   "metadata": {},
   "source": [
    "https://namu.wiki/w/이동평균선"
   ]
  },
  {
   "cell_type": "markdown",
   "metadata": {},
   "source": [
    "http://www.hankookilbo.com/News/Read/201508182147565668"
   ]
  },
  {
   "cell_type": "markdown",
   "metadata": {},
   "source": [
    "http://ecodemy.cafe24.com/ave.html"
   ]
  },
  {
   "cell_type": "code",
   "execution_count": 2,
   "metadata": {},
   "outputs": [],
   "source": [
    "from jupyterthemes import jtplot\n",
    "jtplot.style('grade3')"
   ]
  },
  {
   "cell_type": "code",
   "execution_count": 3,
   "metadata": {},
   "outputs": [
    {
     "data": {
      "text/html": [
       "<div>\n",
       "<style scoped>\n",
       "    .dataframe tbody tr th:only-of-type {\n",
       "        vertical-align: middle;\n",
       "    }\n",
       "\n",
       "    .dataframe tbody tr th {\n",
       "        vertical-align: top;\n",
       "    }\n",
       "\n",
       "    .dataframe thead th {\n",
       "        text-align: right;\n",
       "    }\n",
       "</style>\n",
       "<table border=\"1\" class=\"dataframe\">\n",
       "  <thead>\n",
       "    <tr style=\"text-align: right;\">\n",
       "      <th></th>\n",
       "      <th></th>\n",
       "      <th>close_price</th>\n",
       "      <th>high_price</th>\n",
       "      <th>interpolated</th>\n",
       "      <th>low_price</th>\n",
       "      <th>open_price</th>\n",
       "      <th>session</th>\n",
       "      <th>volume</th>\n",
       "    </tr>\n",
       "    <tr>\n",
       "      <th>symbol</th>\n",
       "      <th>begins_at</th>\n",
       "      <th></th>\n",
       "      <th></th>\n",
       "      <th></th>\n",
       "      <th></th>\n",
       "      <th></th>\n",
       "      <th></th>\n",
       "      <th></th>\n",
       "    </tr>\n",
       "  </thead>\n",
       "  <tbody>\n",
       "    <tr>\n",
       "      <th rowspan=\"5\" valign=\"top\">AAPL</th>\n",
       "      <th>2017-11-16</th>\n",
       "      <td>168.569200</td>\n",
       "      <td>169.327900</td>\n",
       "      <td>False</td>\n",
       "      <td>167.781100</td>\n",
       "      <td>168.648100</td>\n",
       "      <td>reg</td>\n",
       "      <td>23637484</td>\n",
       "    </tr>\n",
       "    <tr>\n",
       "      <th>2017-11-17</th>\n",
       "      <td>167.633300</td>\n",
       "      <td>168.855000</td>\n",
       "      <td>False</td>\n",
       "      <td>167.130800</td>\n",
       "      <td>168.510100</td>\n",
       "      <td>reg</td>\n",
       "      <td>21899544</td>\n",
       "    </tr>\n",
       "    <tr>\n",
       "      <th>2017-11-20</th>\n",
       "      <td>167.465800</td>\n",
       "      <td>168.037200</td>\n",
       "      <td>False</td>\n",
       "      <td>167.052000</td>\n",
       "      <td>167.771200</td>\n",
       "      <td>reg</td>\n",
       "      <td>16262447</td>\n",
       "    </tr>\n",
       "    <tr>\n",
       "      <th>2017-11-21</th>\n",
       "      <td>170.579100</td>\n",
       "      <td>171.130800</td>\n",
       "      <td>False</td>\n",
       "      <td>168.254000</td>\n",
       "      <td>168.254000</td>\n",
       "      <td>reg</td>\n",
       "      <td>25131295</td>\n",
       "    </tr>\n",
       "    <tr>\n",
       "      <th>2017-11-22</th>\n",
       "      <td>172.372100</td>\n",
       "      <td>172.411600</td>\n",
       "      <td>False</td>\n",
       "      <td>170.490400</td>\n",
       "      <td>170.795800</td>\n",
       "      <td>reg</td>\n",
       "      <td>25588925</td>\n",
       "    </tr>\n",
       "  </tbody>\n",
       "</table>\n",
       "</div>"
      ],
      "text/plain": [
       "                  close_price  high_price  interpolated   low_price  \\\n",
       "symbol begins_at                                                      \n",
       "AAPL   2017-11-16  168.569200  169.327900         False  167.781100   \n",
       "       2017-11-17  167.633300  168.855000         False  167.130800   \n",
       "       2017-11-20  167.465800  168.037200         False  167.052000   \n",
       "       2017-11-21  170.579100  171.130800         False  168.254000   \n",
       "       2017-11-22  172.372100  172.411600         False  170.490400   \n",
       "\n",
       "                   open_price session    volume  \n",
       "symbol begins_at                                 \n",
       "AAPL   2017-11-16  168.648100     reg  23637484  \n",
       "       2017-11-17  168.510100     reg  21899544  \n",
       "       2017-11-20  167.771200     reg  16262447  \n",
       "       2017-11-21  168.254000     reg  25131295  \n",
       "       2017-11-22  170.795800     reg  25588925  "
      ]
     },
     "execution_count": 3,
     "metadata": {},
     "output_type": "execute_result"
    }
   ],
   "source": [
    "import pandas_datareader.data as web\n",
    "from datetime import datetime\n",
    "\n",
    "f = web.DataReader('AAPL', 'robinhood')\n",
    "\n",
    "f.head()"
   ]
  },
  {
   "cell_type": "code",
   "execution_count": 4,
   "metadata": {},
   "outputs": [],
   "source": [
    "data = f.iloc[-60:] # 최근 60일의 데이터 사용"
   ]
  },
  {
   "cell_type": "code",
   "execution_count": 5,
   "metadata": {},
   "outputs": [],
   "source": [
    "index = [i[1] for i in data.index.values]\n",
    "index = [str(i)[:-9] for i in index]"
   ]
  },
  {
   "cell_type": "code",
   "execution_count": 6,
   "metadata": {},
   "outputs": [
    {
     "name": "stdout",
     "output_type": "stream",
     "text": [
      "Period from  2018-08-23  To  2018-11-15\n"
     ]
    }
   ],
   "source": [
    "print(\"Period from \", index[0], \" To \", index[-1])"
   ]
  },
  {
   "cell_type": "markdown",
   "metadata": {},
   "source": [
    "### Matplotlib.finance 삭제됨... 사용법"
   ]
  },
  {
   "cell_type": "markdown",
   "metadata": {},
   "source": [
    "https://stackoverflow.com/questions/42373104/since-matplotlib-finance-has-been-deprecated-how-can-i-use-the-new-mpl-finance"
   ]
  },
  {
   "cell_type": "code",
   "execution_count": 8,
   "metadata": {},
   "outputs": [
    {
     "data": {
      "image/png": "[encoded data removed]",
      "text/plain": [
       "<Figure size 864x504 with 1 Axes>"
      ]
     },
     "metadata": {},
     "output_type": "display_data"
    }
   ],
   "source": [
    "from mpl_finance import candlestick2_ohlc\n",
    "import matplotlib.pyplot as plt\n",
    "import matplotlib.ticker as ticker\n",
    "import datetime as datetime\n",
    "import numpy as np\n",
    "\n",
    "fig, ax = plt.subplots(figsize=(12,7))\n",
    "ma5 = data['close_price'].rolling(window=5).mean()\n",
    "ax.plot(index, ma5, label='MA5')\n",
    "\n",
    "ma20 = data['close_price'].rolling(window=20).mean()\n",
    "ax.plot(index, ma20, label='MA20')\n",
    "\n",
    "candlestick2_ohlc(ax,data['open_price'],data['high_price'],data['low_price'],data['close_price'],width=0.6)\n",
    "\n",
    "ax.xaxis.set_major_locator(ticker.MaxNLocator(6))\n",
    "\n",
    "def mydate(x,pos):\n",
    "    try:\n",
    "        return index[int(x-0.5)]\n",
    "    except IndexError:\n",
    "        return ''\n",
    "\n",
    "ax.xaxis.set_major_formatter(ticker.FuncFormatter(mydate))\n",
    "\n",
    "\n",
    "fig.legend(loc=5)\n",
    "fig.autofmt_xdate()\n",
    "# fig.tight_layout()\n",
    "plt.show()"
   ]
  },
  {
   "cell_type": "code",
   "execution_count": null,
   "metadata": {},
   "outputs": [],
   "source": []
  }
 ],
 "metadata": {
  "kernelspec": {
   "display_name": "Python 3",
   "language": "python",
   "name": "python3"
  },
  "language_info": {
   "codemirror_mode": {
    "name": "ipython",
    "version": 3
   },
   "file_extension": ".py",
   "mimetype": "text/x-python",
   "name": "python",
   "nbconvert_exporter": "python",
   "pygments_lexer": "ipython3",
   "version": "3.6.1"
  }
 },
 "nbformat": 4,
 "nbformat_minor": 2
}
